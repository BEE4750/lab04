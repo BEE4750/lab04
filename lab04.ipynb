{
  "cells": [
    {
      "cell_type": "markdown",
      "metadata": {},
      "source": [
        "# BEE 4750 Lab 4: Simulation-Optimization\n",
        "\n",
        "**Name**:\n",
        "\n",
        "**ID**:\n",
        "\n",
        "> **Due Date**\n",
        ">\n",
        "> Friday, 11/17/23, 9:00pm\n",
        "\n",
        "## Setup\n",
        "\n",
        "The following code should go at the top of most Julia scripts; it will\n",
        "load the local package environment and install any needed packages. You\n",
        "will see this often and shouldn’t need to touch it."
      ],
      "id": "37acac57-15ea-4127-89b3-fcd589600cfd"
    },
    {
      "cell_type": "code",
      "execution_count": 1,
      "metadata": {},
      "outputs": [],
      "source": [
        "import Pkg\n",
        "Pkg.activate(\".\")\n",
        "Pkg.instantiate()"
      ],
      "id": "5e950439"
    },
    {
      "cell_type": "code",
      "execution_count": 2,
      "metadata": {},
      "outputs": [],
      "source": [
        "using Random # for random seeds\n",
        "using Distributions # statistical distribution interface\n",
        "using Roots # find zeros of functions\n",
        "using Metaheuristics # search algorithms\n",
        "using Plots # plotting"
      ],
      "id": "feac28f5"
    },
    {
      "cell_type": "markdown",
      "metadata": {},
      "source": [
        "## Overview\n",
        "\n",
        "In this lab, you will experiment with simulation-optimization with the\n",
        "shallow lake problem. The goal of this experimentation is to get an\n",
        "understanding of how to work with simulation-optimization methods and\n",
        "the impact of some choices involved in using these methods.\n",
        "\n",
        "Free free to delete some of the illustrative cells and code blocks in\n",
        "your notebook as you go through and solve the lab problems…this might\n",
        "help reduce some potential confusion while grading about what your\n",
        "answer is."
      ],
      "id": "675b9be5-2dbb-4360-be20-7a61db934a9d"
    },
    {
      "cell_type": "markdown",
      "metadata": {},
      "source": [
        "## Introduction\n",
        "\n",
        "Due to ongoing economic activity, a town emits phosphorous into a\n",
        "shallow lake (with a concentration of $a_t$), which also receives\n",
        "non-point source runoff (concentration $y_t$) from the surrounding area.\n",
        "The concentration of the lake at time $t+1$ is given by\n",
        "$$X_{t+1} = X_t + a_t + y_t + \\frac{X_t^q}{1+X_t^q} - bX_t,$$\n",
        "\n",
        "where:\n",
        "\n",
        "| Parameter | Value                                                |\n",
        "|:---------:|:-----------------------------------------------------|\n",
        "|   $a_t$   | point-source phosphorous concentration from the town |\n",
        "|   $y_t$   | non-point-source phosphorous concentration           |\n",
        "|    $q$    | rate at which phosphorous is recycled from sediment  |\n",
        "|    $b$    | rate at which phosphorous leaves the lake            |\n",
        "\n",
        "and $X_0 = 0$, $y_t \\sim LogNormal(\\log(0.03), 0.25)$, $q=2.5$, and\n",
        "$b=0.4$.\n",
        "\n",
        "The goal of the optimization is to maximize the town’s average\n",
        "phosphorous concentration releases (as a proxy of economic activity):\n",
        "$\\max \\sum_{t=1}^T a_t / T$ over a 100-year period. We have decided\n",
        "(initially) that an acceptable solution is one which will result in the\n",
        "lake eutrophying no more than 10% of the time.\n",
        "\n",
        "The non-point source samples can be sampled using the following code\n",
        "block:"
      ],
      "id": "e24bbd67-63e0-4262-8d83-ae192828e478"
    },
    {
      "cell_type": "code",
      "execution_count": 3,
      "metadata": {},
      "outputs": [
        {
          "output_type": "display_data",
          "metadata": {},
          "data": {
            "text/plain": [
              "100×1000 Matrix{Float64}:\n",
              " 0.0294753  0.0459864  0.023513   …  0.0259183  0.0260934  0.0284652\n",
              " 0.034263   0.0222782  0.0459188     0.0288482  0.0480454  0.0531018\n",
              " 0.0245199  0.0296271  0.0445619     0.0246404  0.0250734  0.0304308\n",
              " 0.055448   0.0312     0.0228208     0.0298609  0.0428105  0.0256198\n",
              " 0.0401417  0.024978   0.0458244     0.0228935  0.0286062  0.0238694\n",
              " 0.0320754  0.021759   0.0471452  …  0.0472771  0.0187508  0.0306753\n",
              " 0.0464641  0.0416385  0.0246833     0.0382252  0.0288505  0.0226561\n",
              " 0.0244027  0.0432707  0.0341214     0.0238988  0.0427204  0.0316143\n",
              " 0.0231156  0.0279197  0.0217747     0.0231772  0.0335662  0.0324465\n",
              " 0.0276303  0.0305858  0.0440326     0.0289394  0.0312328  0.0173388\n",
              " 0.0265926  0.0268063  0.0211159  …  0.037834   0.0312287  0.026394\n",
              " 0.0403164  0.0266134  0.0216122     0.028509   0.027825   0.0218214\n",
              " 0.0338308  0.027926   0.0306826     0.0294304  0.0207037  0.0215595\n",
              " ⋮                                ⋱                        \n",
              " 0.0457122  0.0238664  0.0237655     0.0311862  0.0253364  0.0579905\n",
              " 0.0224192  0.0329373  0.0346091     0.0255521  0.0364313  0.0317282\n",
              " 0.0483081  0.0307856  0.0349618  …  0.0398002  0.0399315  0.0450513\n",
              " 0.025665   0.0341366  0.0274747     0.0283546  0.0458031  0.0277959\n",
              " 0.0405629  0.0421121  0.0252557     0.0450377  0.0284411  0.0206434\n",
              " 0.0228445  0.0223746  0.0210942     0.0442834  0.0337672  0.0287835\n",
              " 0.0252604  0.0462868  0.0358435     0.0146043  0.023085   0.0240258\n",
              " 0.0237704  0.0378816  0.0291353  …  0.0442565  0.0326019  0.021258\n",
              " 0.0335883  0.0218181  0.0331417     0.0510932  0.0366858  0.0296993\n",
              " 0.0312679  0.0187135  0.0534007     0.0451143  0.026161   0.0183542\n",
              " 0.0382682  0.0310429  0.0296539     0.0471901  0.0283451  0.0219015\n",
              " 0.0256315  0.0232021  0.0239607     0.0350929  0.0293862  0.0348934"
            ]
          }
        }
      ],
      "source": [
        "Random.seed!(1)\n",
        "\n",
        "T = 100 # length of simualtion\n",
        "n_samples = 1_000 # replace with number of samples if you experiment\n",
        "\n",
        "P_distribution = LogNormal(log(0.03), 0.25)\n",
        "y = rand(P_distribution, (T, n_samples)) # sample a T x n_samples matrix"
      ],
      "id": "02dbd8b1"
    },
    {
      "cell_type": "markdown",
      "metadata": {},
      "source": [
        "We write the lake model as a function:"
      ],
      "id": "015c657d-3cae-40a2-aed4-604dd99bbc73"
    },
    {
      "cell_type": "code",
      "execution_count": 4,
      "metadata": {},
      "outputs": [
        {
          "output_type": "display_data",
          "metadata": {},
          "data": {
            "text/plain": [
              "lake (generic function with 1 method)"
            ]
          }
        }
      ],
      "source": [
        "# lake function model\n",
        "# inputs:\n",
        "#   a: vector of point-source releases (to be optimized)\n",
        "#   y: randomly-sampled non-point sources\n",
        "#   q: lake phosphorous recycling rate\n",
        "#   b: phosphorous outflow rate\n",
        "# \n",
        "# returns:\n",
        "#   series of lake phosphorous concentrations\n",
        "function lake(a, y, q, b, T)\n",
        "    X = zeros(T+1, size(y, 2))\n",
        "    # calculate states\n",
        "    for t = 1:T\n",
        "        X[t+1, :] = X[t, :] .+ a[t] .+ y[t, :] .+ (X[t, :].^q./(1 .+ X[t, :].^q)) .- b.*X[t, :]\n",
        "    end\n",
        "    return X\n",
        "end"
      ],
      "id": "20780fdf"
    },
    {
      "cell_type": "markdown",
      "metadata": {},
      "source": [
        "However, this isn’t sufficient on its own! `Metaheuristics.jl` (and most\n",
        "simulation-optimization packages) require the use of a *wrapper*\n",
        "function, which accepts as inputs both parameters to be optimized (in\n",
        "this case, point-source releases `a`) and parameters which will be fixed\n",
        "(the others; see below for how to incorporate these into the syntax) and\n",
        "returns the required information for the optimization procedure.\n",
        "\n",
        "`Metaheuristics.jl` wants its optimizing wrapper function to return (in\n",
        "order):\n",
        "\n",
        "-   the objective(s) (in this case, the mean of `a`, $\\sum_t a_t / T$),\n",
        "-   a vector of the degrees to which the solution fails to achieve any\n",
        "    inequality constraints (positive values indicate a larger failure,\n",
        "    values below zero are considered acceptable)\n",
        "-   a vector of the degrees to which the solution fails to achieve any\n",
        "    equality constraints (only values of zero indicate success), which\n",
        "    in this case is not relevant, so we just return `[0.0]`."
      ],
      "id": "f0969559-e292-4fb7-97fc-d6782d336856"
    },
    {
      "cell_type": "code",
      "execution_count": 5,
      "metadata": {},
      "outputs": [
        {
          "output_type": "display_data",
          "metadata": {},
          "data": {
            "text/plain": [
              "lake_opt (generic function with 1 method)"
            ]
          }
        }
      ],
      "source": [
        "# function producing optimization outputs\n",
        "# inputs:\n",
        "#   a: vector of point-source releases (to be optimized)\n",
        "#   y: randomly-sampled non-point sources\n",
        "#   q: lake phosphorous recycling rate\n",
        "#   b: phosphorous outflow rate\n",
        "# \n",
        "# returns:\n",
        "#   - objective: mean value of point-source releases\n",
        "#   - inequality constraint failure vector\n",
        "#   - equality constraint failure vector (in this case, always [0.0])\n",
        "function lake_opt(a, y, q, b, T, Xcrit)\n",
        "    X = lake(a, y, q, b, T)\n",
        "    # calculate exceedance of critical value\n",
        "    Pexceed = sum(X[T+1, :] .> Xcrit) / size(X, 2)\n",
        "    failconst = [Pexceed - 0.1] # replace 0.1 if you experiment with the failure probability\n",
        "    return mean(a), failconst, [0.0]\n",
        "end"
      ],
      "id": "123470aa"
    },
    {
      "cell_type": "markdown",
      "metadata": {},
      "source": [
        "To optimize using DE (differential evolution), use the following syntax:\n",
        "\n",
        "``` julia\n",
        "results = optimize(f, bounds, DE(options=Options(f_calls_limit=max_evals)))\n",
        "```\n",
        "\n",
        "where `bounds` is a `Matrix` of lower bounds (first row) and upper\n",
        "bounds (last row), and `max_evals` is an integer for the maximum number\n",
        "of evaluations.\n",
        "\n",
        "-   For example, to set bounds for all decision variables between 0 and\n",
        "    0.5, you can use\n",
        "\n",
        "``` julia\n",
        "bounds = [zeros(T) 0.5ones(T)]'\n",
        "```\n",
        "\n",
        "-   Increasing `max_evals` can help you find a better solution, but at a\n",
        "    larger computational expense.\n",
        "-   You can use an anonymous function to fix values for non-optimized\n",
        "    parameters, *e.g.*\n",
        "\n",
        "``` julia\n",
        "y = ...\n",
        "q = ...\n",
        "b = ...\n",
        "T = ...\n",
        "Xcrit = ...\n",
        "results = optimize(a -> lake_opt(a, y, q, b, t, Xcrit), bounds, DE(options=Options(f_calls_limit=max_evals)))\n",
        "```\n",
        "\n",
        "Then to get the approximated minimum value:\n",
        "\n",
        "``` julia\n",
        "fx = minimum(result)\n",
        "```\n",
        "\n",
        "and the approximated minimizing value:\n",
        "\n",
        "``` julia\n",
        "x = minimizer(result)\n",
        "```\n",
        "\n",
        "The last piece is to get the critical value (to identify failures),\n",
        "which we can do using `Roots.jl`, which finds zeros of functions:"
      ],
      "id": "f6e90369-d38f-432d-807a-49e680fe5e57"
    },
    {
      "cell_type": "code",
      "execution_count": 6,
      "metadata": {},
      "outputs": [],
      "source": [
        "# define a function whose zeros are the critical values\n",
        "P_flux(x) = (x^q/(1+x^q)) - b*x\n",
        "# use Roots.find_zero() to find the non-eutrophication and non-zero critical value; we know from visual inspection in class that this is bounded between 0.1 and 1.5.\n",
        "Xcrit = find_zero(P_flux, (0.1, 1.5))"
      ],
      "id": "8241d3ef"
    },
    {
      "cell_type": "markdown",
      "metadata": {},
      "source": [
        "## Problems\n",
        "\n",
        "### Problem 1 (2 points)\n",
        "\n",
        "Using the default setup above, find the approximate optimum value. What\n",
        "is the value of the objective function, and how many failures (you can\n",
        "evaluate the `lake` function using your solution to find how many\n",
        "end-values are above the critical value).\n",
        "\n",
        "### Problem 2 (5 points)"
      ],
      "id": "2a2a9a6c-0a6f-484a-9996-ad9987bc3193"
    },
    {
      "cell_type": "markdown",
      "metadata": {},
      "source": [
        "Feel free to experiment with some of the degrees of freedom in finding\n",
        "the optimum value. For example:\n",
        "\n",
        "-   What failure probability are you using to characterize acceptable\n",
        "    solutions?\n",
        "-   How many Monte Carlo samples are you using?\n",
        "-   What bounds are you searching over for the releases?\n",
        "-   How many function evaluations are you using for the search?\n",
        "-   What is the impact of different [`Metaheuristics.jl`\n",
        "    algorithms](https://docs.juliahub.com/Metaheuristics/aJ70z/3.2.12/algorithms/)?\n",
        "\n",
        "Note that you might want to modify some of these together: for example,\n",
        "lower acceptable failure probabilities often require more function\n",
        "evaluations to find acceptable values, and more Monte Carlo samples\n",
        "increase computational expense, so fewer function evaluations may be\n",
        "completed in the same time.\n",
        "\n",
        "Provide a description of what you’ve modified and why. What was the new\n",
        "solution that you found? Does it satisfy the constraints?"
      ],
      "id": "0798aa5d-d992-4181-9d1d-8cc614e0b69a"
    },
    {
      "cell_type": "markdown",
      "metadata": {},
      "source": [
        "### Problem 3 (3 points)\n",
        "\n",
        "What did you learn about the use of these methods? Compare with your\n",
        "experience with linear programming from earlier in the semester.\n",
        "\n",
        "## References\n",
        "\n",
        "Put any consulted sources here, including classmates you worked with/who\n",
        "helped you."
      ],
      "id": "5e8171ff-04c2-45d3-a1ec-a6291eecd781"
    }
  ],
  "nbformat": 4,
  "nbformat_minor": 5,
  "metadata": {
    "kernelspec": {
      "name": "julia-1.9",
      "display_name": "Julia 1.9.3",
      "language": "julia"
    },
    "language_info": {
      "name": "julia",
      "file_extension": ".jl",
      "mimetype": "application/julia",
      "version": "1.9.3"
    }
  }
}